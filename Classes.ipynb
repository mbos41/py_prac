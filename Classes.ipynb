{
 "cells": [
  {
   "cell_type": "code",
   "execution_count": 5,
   "metadata": {
    "collapsed": false
   },
   "outputs": [
    {
     "name": "stdout",
     "output_type": "stream",
     "text": [
      "green\n"
     ]
    }
   ],
   "source": [
    "class Apple():\n",
    "    def __init__(self, v, c, w, a):\n",
    "        self.variety = v\n",
    "        self.color = c\n",
    "        self.weight = w\n",
    "        self.age = a\n",
    "\n",
    "apple1 = Apple('granny smith', 'green', 10, 1)\n",
    "print(apple1.color)"
   ]
  },
  {
   "cell_type": "code",
   "execution_count": 6,
   "metadata": {
    "collapsed": false
   },
   "outputs": [
    {
     "name": "stdout",
     "output_type": "stream",
     "text": [
      "3.141592653589793\n"
     ]
    }
   ],
   "source": [
    "import math\n",
    "print(math.pi)"
   ]
  },
  {
   "cell_type": "code",
   "execution_count": 8,
   "metadata": {
    "collapsed": false
   },
   "outputs": [
    {
     "name": "stdout",
     "output_type": "stream",
     "text": [
      "12.566370614359172\n"
     ]
    }
   ],
   "source": [
    "class Circle():\n",
    "    def __init__(self, r):\n",
    "        self.radius = r\n",
    "    \n",
    "    def area(self):\n",
    "        return math.pi*self.radius**2\n",
    "    \n",
    "circle1 = Circle(2)\n",
    "print(circle1.area())"
   ]
  },
  {
   "cell_type": "code",
   "execution_count": 20,
   "metadata": {
    "collapsed": false
   },
   "outputs": [
    {
     "name": "stdout",
     "output_type": "stream",
     "text": [
      "14\n",
      "12\n",
      "20\n",
      "I am a shape\n",
      "None\n"
     ]
    }
   ],
   "source": [
    "class Shape():\n",
    "    def what_am_i(self):\n",
    "        print(\"I am a shape\")\n",
    "\n",
    "class Rectangle(Shape):\n",
    "    def __init__(self, w, l):\n",
    "        self.width = w\n",
    "        self.length = l\n",
    "        \n",
    "    def perimeter(self):\n",
    "        return 2*self.width + 2*self.length\n",
    "    \n",
    "class Square(Shape):\n",
    "    def __init__(self, s):\n",
    "        self.side = s\n",
    "        \n",
    "    def perimeter(self):\n",
    "        return 4*self.side\n",
    "    \n",
    "    def change_size(self, c):\n",
    "        self.side = self.side + c\n",
    "\n",
    "rectangle1 = Rectangle(3,4)\n",
    "print(rectangle1.perimeter())\n",
    "square1 = Square(3)\n",
    "print(square1.perimeter())\n",
    "square1.change_size(2)\n",
    "print(square1.perimeter())\n",
    "print(square1.what_am_i())"
   ]
  },
  {
   "cell_type": "code",
   "execution_count": 22,
   "metadata": {
    "collapsed": false
   },
   "outputs": [
    {
     "name": "stdout",
     "output_type": "stream",
     "text": [
      "Michael\n"
     ]
    }
   ],
   "source": [
    "class Horse():\n",
    "    def __init__(self, c, r):\n",
    "        self.color = c\n",
    "        self.rider = r\n",
    "        \n",
    "class Rider():\n",
    "    def __init__(self, n):\n",
    "        self.name = n\n",
    "        \n",
    "michael = Rider(\"Michael\")\n",
    "pony = Horse(\"Brown\", michael)\n",
    "print(pony.rider.name)"
   ]
  },
  {
   "cell_type": "code",
   "execution_count": null,
   "metadata": {
    "collapsed": true
   },
   "outputs": [],
   "source": []
  }
 ],
 "metadata": {
  "anaconda-cloud": {},
  "kernelspec": {
   "display_name": "Python [conda root]",
   "language": "python",
   "name": "conda-root-py"
  },
  "language_info": {
   "codemirror_mode": {
    "name": "ipython",
    "version": 3
   },
   "file_extension": ".py",
   "mimetype": "text/x-python",
   "name": "python",
   "nbconvert_exporter": "python",
   "pygments_lexer": "ipython3",
   "version": "3.5.2"
  }
 },
 "nbformat": 4,
 "nbformat_minor": 1
}
