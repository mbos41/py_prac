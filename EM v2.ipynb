{
 "cells": [
  {
   "cell_type": "code",
   "execution_count": 56,
   "metadata": {
    "collapsed": false
   },
   "outputs": [],
   "source": [
    "import numpy as np\n",
    "import math\n",
    "from scipy.stats import norm"
   ]
  },
  {
   "cell_type": "code",
   "execution_count": 110,
   "metadata": {
    "collapsed": true
   },
   "outputs": [],
   "source": [
    "# Generate data from two 1D distributions\n",
    "mu1, sigma1, m1 = 10, 1, 100\n",
    "mu2, sigma2, m2 = 20, 3, 300\n",
    "x1 = np.random.normal(mu1, sigma1, m1)\n",
    "x2 = np.random.normal(mu2, sigma2, m2)\n",
    "X = np.concatenate((x1, x2), axis = 0)\n"
   ]
  },
  {
   "cell_type": "code",
   "execution_count": 123,
   "metadata": {
    "collapsed": false
   },
   "outputs": [],
   "source": [
    "# Choose initial values for parameters\n",
    "l = X.size\n",
    "\n",
    "k = 2 # number of clusters to find\n",
    "mu = np.zeros(k)\n",
    "for i in (0,k-1):\n",
    "    mu[i] = X[np.random.choice(l, 1)]\n",
    "mu\n",
    "\n",
    "sigma = np.ones(2) * np.std(X)\n",
    "\n",
    "\n",
    "phi = np.array([1/k, 1/k])"
   ]
  },
  {
   "cell_type": "code",
   "execution_count": 113,
   "metadata": {
    "collapsed": false
   },
   "outputs": [],
   "source": [
    "# Run E step\n",
    "def e_step():\n",
    "\n",
    "    # Calculate probability for each data point for each distribution\n",
    "    #pdf = np.zeros((l, k))\n",
    "    pdf_phi = norm.pdf(X, mu[0], sigma[0])*phi[0], norm.pdf(X, mu[1], sigma[1])*phi[1]\n",
    "    #pdf_phi\n",
    "    sums = np.sum(pdf_phi, axis = 0)\n",
    "    weights = np.divide(pdf_phi, sums)\n"
   ]
  },
  {
   "cell_type": "code",
   "execution_count": 114,
   "metadata": {
    "collapsed": false
   },
   "outputs": [],
   "source": [
    "# Run M step\n",
    "def m_step():\n",
    "    prevMu = mu\n",
    "    phi = np.mean(weights[0]), np.mean(weights[1])\n",
    "    phi\n",
    "\n",
    "    mu = np.mean(weights[0]*X), np.mean(weights[1]*X)\n",
    "\n",
    "    sigma = np.sqrt(np.mean(weights[0]*(X - mu[0])**2)), np.sqrt(np.mean(weights[1]*(X - mu[1])**2))\n"
   ]
  },
  {
   "cell_type": "code",
   "execution_count": 124,
   "metadata": {
    "collapsed": false
   },
   "outputs": [
    {
     "data": {
      "text/plain": [
       "array([ 18.09688199,  20.65070011])"
      ]
     },
     "execution_count": 124,
     "metadata": {},
     "output_type": "execute_result"
    }
   ],
   "source": [
    "tol = 0.01\n",
    "max_iter = 1000\n",
    "\n",
    "for i in range(max_iter):\n",
    "    e_step\n",
    "    \n",
    "    m_step\n",
    "    \n",
    "mu\n"
   ]
  }
 ],
 "metadata": {
  "anaconda-cloud": {},
  "kernelspec": {
   "display_name": "Python [conda root]",
   "language": "python",
   "name": "conda-root-py"
  },
  "language_info": {
   "codemirror_mode": {
    "name": "ipython",
    "version": 3
   },
   "file_extension": ".py",
   "mimetype": "text/x-python",
   "name": "python",
   "nbconvert_exporter": "python",
   "pygments_lexer": "ipython3",
   "version": "3.5.2"
  }
 },
 "nbformat": 4,
 "nbformat_minor": 1
}
