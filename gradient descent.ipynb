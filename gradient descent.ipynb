{
 "cells": [
  {
   "cell_type": "code",
   "execution_count": 2,
   "metadata": {
    "collapsed": false
   },
   "outputs": [],
   "source": [
    "# loading necessary libraries and setting up plotting libraries\n",
    "import numpy as np\n",
    "\n",
    "\n",
    "from sklearn.datasets.samples_generator import make_regression\n",
    "from scipy import stats"
   ]
  },
  {
   "cell_type": "code",
   "execution_count": 4,
   "metadata": {
    "collapsed": false
   },
   "outputs": [
    {
     "name": "stdout",
     "output_type": "stream",
     "text": [
      "Local minimum occurs at 3.05.\n"
     ]
    }
   ],
   "source": [
    "old_min = 0\n",
    "temp_min = 15\n",
    "step_size = 0.01\n",
    "precision = 0.001\n",
    "\n",
    "def f_derivative(x):\n",
    "    return 2*x - 6\n",
    "\n",
    "mins = []\n",
    "cost = []\n",
    "\n",
    "while abs(temp_min - old_min) > precision:\n",
    "    old_min = temp_min\n",
    "    gradient = f_derivative(old_min)\n",
    "    move = gradient * step_size\n",
    "    temp_min = old_min - move\n",
    "    cost.append((3 - temp_min)**2)\n",
    "    mins.append(temp_min)\n",
    "    \n",
    "print(\"Local minimum occurs at {}.\".format(round(temp_min,2)))"
   ]
  },
  {
   "cell_type": "code",
   "execution_count": 14,
   "metadata": {
    "collapsed": true
   },
   "outputs": [],
   "source": [
    "x , y = make_regression(n_samples = 100,\n",
    "                       n_features = 1,\n",
    "                       n_informative = 1,\n",
    "                       noise = 10,\n",
    "                       random_state = 2015)\n",
    "\n",
    "slope, intercept, _,_,_ = stats.linregress(x[:,0],y)\n",
    "best_fit = x[:,0] * slope + intercept"
   ]
  },
  {
   "cell_type": "code",
   "execution_count": 10,
   "metadata": {
    "collapsed": false
   },
   "outputs": [],
   "source": [
    "def gradient_descent(x, y, iters, alpha):\n",
    "    costs = []\n",
    "    m = y.size # number of data points\n",
    "    theta = np.random.rand(2) # random start\n",
    "    history = [theta] # to store all thetas\n",
    "    preds = []\n",
    "    for i in range(iters):\n",
    "        pred = np.dot(x, theta)\n",
    "        error = pred - y\n",
    "        cost = np.sum(error ** 2) / (2 * m)\n",
    "        costs.append(cost)\n",
    "        \n",
    "        if i % 25 == 0: preds.append(pred)\n",
    "            \n",
    "        gradient = x.T.dot(error)/m\n",
    "        theta = theta - alpha * gradient # update\n",
    "        history.append(theta)\n",
    "        \n",
    "    return history, costs, preds"
   ]
  },
  {
   "cell_type": "code",
   "execution_count": 16,
   "metadata": {
    "collapsed": true
   },
   "outputs": [],
   "source": [
    "x = np.c_[np.ones(x.shape[0]), x]"
   ]
  },
  {
   "cell_type": "code",
   "execution_count": 19,
   "metadata": {
    "collapsed": false
   },
   "outputs": [],
   "source": [
    "alpha = 0.001 # set step_size\n",
    "iters = 5000 # set number of iterations\n",
    "history, cost, preds = gradient_descent(x, y, iters, alpha)\n",
    "theta = history[-1]"
   ]
  },
  {
   "cell_type": "code",
   "execution_count": 20,
   "metadata": {
    "collapsed": false
   },
   "outputs": [
    {
     "name": "stdout",
     "output_type": "stream",
     "text": [
      "Gradient Descent: 1.20, 62.81\n",
      "Least Squares: 1.49, 63.42\n"
     ]
    }
   ],
   "source": [
    "print(\"Gradient Descent: {:.2f}, {:.2f}\".format(theta[0], theta[1]))\n",
    "print(\"Least Squares: {:.2f}, {:.2f}\".format(intercept, slope))"
   ]
  }
 ],
 "metadata": {
  "anaconda-cloud": {},
  "kernelspec": {
   "display_name": "Python [conda root]",
   "language": "python",
   "name": "conda-root-py"
  },
  "language_info": {
   "codemirror_mode": {
    "name": "ipython",
    "version": 3
   },
   "file_extension": ".py",
   "mimetype": "text/x-python",
   "name": "python",
   "nbconvert_exporter": "python",
   "pygments_lexer": "ipython3",
   "version": "3.5.2"
  }
 },
 "nbformat": 4,
 "nbformat_minor": 1
}
